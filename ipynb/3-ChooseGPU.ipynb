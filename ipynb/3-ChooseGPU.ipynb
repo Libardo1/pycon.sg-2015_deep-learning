{
 "cells": [
  {
   "cell_type": "markdown",
   "metadata": {},
   "source": [
    "Define the parameters from Wiki for testing :"
   ]
  },
  {
   "cell_type": "code",
   "execution_count": null,
   "metadata": {
    "collapsed": true
   },
   "outputs": [],
   "source": [
    "headings=\"\"\"\n",
    "name                | sh:tx:rop | mem | bw|bus|ocl|single|double|watts| pw                | amz\"\"\"\n",
    "raw=\"\"\"\n",
    "GeForce GTX 750     | 512:32:16 | 1024| 80|128|1.2| 1044 | 32.6 |  55 |                   |B00IDG3NDY\n",
    "GeForce GTX 750     | 512:32:16 | 2048| 80|128|1.2| 1044 | 32.6 |  55 |                   |B00J3ZNB04\n",
    "GeForce GTX 760     |1152:96:32 | 2048|192|256|1.2| 2257 | 94   | 170 | geforce_gtx_760   |\n",
    "GeForce GTX 760     |1152:96:32 | 4096|192|256|1.2| 2257 | 94   | 170 |                   |\n",
    "\n",
    "GeForce GTX 960     |1024:64:32 | 2048|112|128|1.2| 2308 | 72.1 | 120 |                   |B00SC6HAS4\n",
    "GeForce GTX 960     |1024:64:32 | 4096|112|128|1.2| 2308 | 72.1 | 120 |                   |B00UOYQ5LA\n",
    "\n",
    "GeForce GTX 970     |1664:104:56| 3584|196|224|1.2| 3494 | 109  | 145 | geforce_gtx_970   |B00NVODXR4\n",
    "GeForce GTX 980     |2048:128:64| 4096|224|256|1.2| 4612 | 144  | 165 | geforce_gtx_980   |B00NT9UT3M\n",
    "GeForce GTX 980 Ti  |2816:176:96| 6144|336|384|1.2| 5632 | 176  | 250 |                   |B00YNEIAWY\n",
    "\n",
    "GeForce GTX Titan X |3072:192:96|12288|336|384|1.2| 6144 | 192  | 250 | geforce_gtx_titan |B00UXTN5P0\n",
    "\n",
    "\"\"\"\n"
   ]
  }
 ],
 "metadata": {
  "kernelspec": {
   "display_name": "Python 2",
   "language": "python",
   "name": "python2"
  },
  "language_info": {
   "codemirror_mode": {
    "name": "ipython",
    "version": 2
   },
   "file_extension": ".py",
   "mimetype": "text/x-python",
   "name": "python",
   "nbconvert_exporter": "python",
   "pygments_lexer": "ipython2",
   "version": "2.7.9"
  }
 },
 "nbformat": 4,
 "nbformat_minor": 0
}