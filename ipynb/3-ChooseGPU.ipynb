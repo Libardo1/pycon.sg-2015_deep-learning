{
 "cells": [
  {
   "cell_type": "markdown",
   "metadata": {},
   "source": [
    "## GPU Chooser\n",
    "\n",
    "This workbook can help rank GPUs according a mixture of features (with the weights determined by the user) and graph it against price.\n",
    "\n",
    "### Data\n",
    "Firstly, pull in the parameters from Wikipedia for the cards under consideration (more can easily be added) :"
   ]
  },
  {
   "cell_type": "code",
   "execution_count": 62,
   "metadata": {
    "collapsed": false
   },
   "outputs": [],
   "source": [
    "raw=\"\"\"\n",
    "name                 | sh:tx:rop | mem | bw|bus|ocl|single|double|watts| amz\n",
    "GeForce GTX 750 1Gb  | 512:32:16 | 1024| 80|128|1.2| 1044 | 32.6 |  55 | B00IDG3NDY\n",
    "GeForce GTX 750 2Gb  | 512:32:16 | 2048| 80|128|1.2| 1044 | 32.6 |  55 | B00J3ZNB04\n",
    "GeForce GTX 750Ti 2Gb| 640:40:16 | 2048| 80|128|1.2| 1306 | 40.8 |  60 | B00IDG3IDO\n",
    "GeForce GTX 750Ti 4Gb| 640:40:16 | 4096| 80|128|1.2| 1306 | 40.8 |  60 | B00T4RJ8FI\n",
    "GeForce GTX 760 2Gb  |1152:96:32 | 2048|192|256|1.2| 2257 | 94   | 170 | B00DHW4HXY\n",
    "GeForce GTX 760 4Gb  |1152:96:32 | 4096|192|256|1.2| 2257 | 94   | 170 | B00E0N49C8\n",
    "\n",
    "GeForce GTX 960 2Gb  |1024:64:32 | 2048|112|128|1.2| 2308 | 72.1 | 120 | B00SC6HAS4\n",
    "GeForce GTX 960 4Gb  |1024:64:32 | 4096|112|128|1.2| 2308 | 72.1 | 120 | B00UOYQ5LA\n",
    "GeForce GTX 970      |1664:104:56| 3584|196|224|1.2| 3494 | 109  | 145 | B00NVODXR4\n",
    "GeForce GTX 980      |2048:128:64| 4096|224|256|1.2| 4612 | 144  | 165 | B00NT9UT3M\n",
    "GeForce GTX 980 Ti   |2816:176:96| 6144|336|384|1.2| 5632 | 176  | 250 | B00YNEIAWY\n",
    "GeForce GTX Titan X  |3072:192:96|12288|336|384|1.2| 6144 | 192  | 250 | B00UXTN5P0\n",
    "\n",
    "R9 290               |2560:160:64| 4096|320|512|2.0| 4848 | 606  | 275 | B00V4JVY1A\n",
    "R9 290X              |2816:176:64| 4096|320|512|2.0| 5632 | 704  | 290 | B00FLMKQY2\n",
    "\n",
    "R9 380 2Gb           |1792:112:32| 2048|182|256|2.1| 3476 | 217  | 190 | B00ZGL8EBK\n",
    "R9 380 4Gb           |1792:112:32| 4096|182|256|2.1| 3476 | 217  | 190 | B00ZGF3TUC\n",
    "R9 390               |2560:160:64| 8192|384|512|2.1| 5120 | 640  | 275 | B00ZGL8CYY\n",
    "R9 390X              |2816:176:64| 8192|384|512|2.1| 5914 | 739  | 275 | B00ZGL8CFI\n",
    "\"\"\"\n",
    "\n",
    "import re\n",
    "arr = [ re.split(r'\\s*[|:]\\s*',l) for l in raw.split('\\n') if len(l)>0]\n",
    "headings = arr[0]\n",
    "data=[ { h:(e if h in 'name.amz' else float(e)) for h,e in zip(headings,a) } for a in arr[1:] ]"
   ]
  },
  {
   "cell_type": "markdown",
   "metadata": {},
   "source": [
    "Now the GPU card data is in a nice array of dictionary entries, with numeric entries for all but 'name' and the Amazon item ID, indexed in the same order as 'raw'."
   ]
  },
  {
   "cell_type": "markdown",
   "metadata": {},
   "source": [
    "### Add known prices from Amazon\n",
    "If you want to regenerate these, execute the block below.  To 'cache' them back into this script, \n",
    "simply copy the generated list back into the following cell"
   ]
  },
  {
   "cell_type": "code",
   "execution_count": 80,
   "metadata": {
    "collapsed": false
   },
   "outputs": [],
   "source": [
    "pxs={'B00ZGL8EBK': 216.53, 'B00UOYQ5LA': 239.99, 'B00IDG3IDO': 139.99, 'B00FLMKQY2': 339.99, 'B00V4JVY1A': 333.26, 'B00YNEIAWY': 698.85, 'B00T4RJ8FI': 349.99, 'B00J3ZNB04': 149.37, 'B00UXTN5P0': 1029.99, 'B00NT9UT3M': 507.82, 'B00ZGL8CYY': 359.42, 'B00ZGF3TUC': 229.99, 'B00SC6HAS4': 199.99, 'B00ZGL8CFI': 458.63, 'B00IDG3NDY': 114.12, 'B00NVODXR4': 337.99}\n",
    "\n",
    "for d in data:\n",
    "    if d.get('amz',None) is not None and pxs.get(d['amz'],None) is not None:\n",
    "        d['px'] = pxs[d['amz']]"
   ]
  },
  {
   "cell_type": "markdown",
   "metadata": {},
   "source": [
    "### Grab prices from Amazon\n",
    "Rather than use their API (which creates the issue of putting the keys into GitHub), just grab the pages.  NB: The page caches the prices found into the data structure to avoid doing this too often!\n",
    "\n",
    "The price downloading/parsing requires that you have ``requests`` and ``BeautifulSoup`` installed : ``pip install requests BeautifulSoup4``\n"
   ]
  },
  {
   "cell_type": "code",
   "execution_count": 78,
   "metadata": {
    "collapsed": false
   },
   "outputs": [],
   "source": [
    "import requests\n",
    "from bs4 import BeautifulSoup\n",
    "\n",
    "BASE_URL = \"http://www.amazon.com/exec/obidos/ASIN/\"\n",
    "\n",
    "for d in data:\n",
    "    if d.get('px', None) is None:\n",
    "        r = requests.get(BASE_URL + d['amz'])\n",
    "        soup = BeautifulSoup(r.text, 'html.parser')\n",
    "        price = None\n",
    "        try:\n",
    "            ele = soup.find(id=\"priceblock_ourprice\")\n",
    "            price = float(ele.text.replace('$','').replace(',',''))\n",
    "            print(\"Got price for %s\" % (d['name']))\n",
    "        except AttributeError:\n",
    "            print(\"Didn't find the 'price' element for %s (%s)\" % (d['name'], d['amz']))\n",
    "        d['px']=price\n",
    "print(\"Finished downloading prices : Run the 'cache' script below to save the data\")"
   ]
  },
  {
   "cell_type": "markdown",
   "metadata": {},
   "source": [
    "### Display code required to 'cache' prices found\n",
    "Exectute the following, and copy its output to the ```pxs=``` line above so that the page \n",
    "can remember the prices found on Amazon most recently."
   ]
  },
  {
   "cell_type": "code",
   "execution_count": 79,
   "metadata": {
    "collapsed": false
   },
   "outputs": [],
   "source": [
    "print({ d['amz']:d['px'] for d in data if d.get('amz',None) is not None and d.get('px',None) is not None})"
   ]
  },
  {
   "cell_type": "markdown",
   "metadata": {},
   "source": [
    "### Show known prices"
   ]
  },
  {
   "cell_type": "code",
   "execution_count": 52,
   "metadata": {
    "collapsed": false
   },
   "outputs": [],
   "source": [
    "for d in data:\n",
    "    if d.get('px', None) is not None:\n",
    "        print(\"%s | %6.2f\" % (d['name'], d['px']))\n"
   ]
  },
  {
   "cell_type": "markdown",
   "metadata": {},
   "source": [
    "### Graph data based on given weights\n",
    "\n",
    "The concept here is that one can focus on a 'basecard' (for instance, one you already have, or one you've looked at closely), and then assign multiplicative weights to each of a GPU card's qualities, and come up with a 'relative performance' according to that weighting scheme.  Then, performance per dollar can be visualised, against absolute dollar cost (higher is better on the chart)."
   ]
  },
  {
   "cell_type": "code",
   "execution_count": 59,
   "metadata": {
    "collapsed": false
   },
   "outputs": [],
   "source": [
    "basecard = 'GeForce GTX 760 2Gb' # Name should match a card with full data above\n",
    "basedata = [ d for d in data if d['name']==basecard ][0]  \n",
    "\n",
    "multipliers = dict(single=2., mem=1.)  # FLOPs are twice as important as memory\n",
    "def evaluate_card(base, d, mult):\n",
    "    comp=0.\n",
    "    for (k,v) in mult.items():\n",
    "        if d.get(k,None) is not None and base.get(k,None) is not None:\n",
    "            comp += v*d[k]/base[k]\n",
    "    return comp\n",
    "x=[ d.get('px',None) for d in data ]\n",
    "y=[ evaluate_card(basedata, d, multipliers) for d in data ]\n",
    "l=[ d['name'] for d in data]\n",
    "zip(l,y,x)\n"
   ]
  }
 ],
 "metadata": {
  "kernelspec": {
   "display_name": "Python 2",
   "language": "python",
   "name": "python2"
  },
  "language_info": {
   "codemirror_mode": {
    "name": "ipython",
    "version": 2
   },
   "file_extension": ".py",
   "mimetype": "text/x-python",
   "name": "python",
   "nbconvert_exporter": "python",
   "pygments_lexer": "ipython2",
   "version": "2.7.10"
  }
 },
 "nbformat": 4,
 "nbformat_minor": 0
}