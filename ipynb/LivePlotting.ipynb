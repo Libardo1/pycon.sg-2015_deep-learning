{
 "cells": [
  {
   "cell_type": "markdown",
   "metadata": {},
   "source": [
    "# Live Plotting : Theano, Bokeh and iPython/Jupyter\n",
    "\n",
    "http://blocks.readthedocs.org/en/latest/plotting.html"
   ]
  },
  {
   "cell_type": "markdown",
   "metadata": {},
   "source": [
    "Producing nice plots from blocks requires 'blocks-extra', which happens to already be included in the requirements.txt file in this repo : "
   ]
  },
  {
   "cell_type": "code",
   "execution_count": null,
   "metadata": {
    "collapsed": true
   },
   "outputs": [],
   "source": [
    "# . env/bin/activate\n",
    "# pip install -r requirements.txt "
   ]
  },
  {
   "cell_type": "markdown",
   "metadata": {},
   "source": [
    "And, so that we can do dynamic plotting, start the ``bokeh-server`` on the command line :"
   ]
  },
  {
   "cell_type": "code",
   "execution_count": null,
   "metadata": {
    "collapsed": true
   },
   "outputs": [],
   "source": [
    "# bokeh-server"
   ]
  },
  {
   "cell_type": "markdown",
   "metadata": {},
   "source": [
    "Now that your plotting server is up and running, start your main loop and pass the Plot extension. Consider this example of fitting the function $f(x)=x^a$ to $f(x)=x^2$."
   ]
  },
  {
   "cell_type": "code",
   "execution_count": null,
   "metadata": {
    "collapsed": false
   },
   "outputs": [],
   "source": [
    "import theano\n",
    "a = theano.shared(3.)\n",
    "a.name = 'a'\n",
    "x = theano.tensor.scalar('data')\n",
    "cost = abs(x ** 2 - x ** a)\n",
    "cost.name = 'cost'"
   ]
  },
  {
   "cell_type": "markdown",
   "metadata": {},
   "source": [
    "We train on a 150 random points in [0,1] :"
   ]
  },
  {
   "cell_type": "code",
   "execution_count": null,
   "metadata": {
    "collapsed": true
   },
   "outputs": [],
   "source": [
    "import numpy\n",
    "from fuel.streams import DataStream\n",
    "from fuel.datasets import IterableDataset\n",
    "data_stream = DataStream(IterableDataset(\n",
    "  numpy.random.rand(150).astype(theano.config.floatX)\n",
    "))"
   ]
  },
  {
   "cell_type": "markdown",
   "metadata": {},
   "source": [
    "Now let’s train with gradient descent and plot the results."
   ]
  },
  {
   "cell_type": "code",
   "execution_count": null,
   "metadata": {
    "collapsed": false
   },
   "outputs": [],
   "source": [
    "from blocks.main_loop import MainLoop\n",
    "from blocks.algorithms import GradientDescent, Scale\n",
    "from blocks.extensions import FinishAfter\n",
    "from blocks.extensions.monitoring import TrainingDataMonitoring\n",
    "from blocks.extras.extensions.plot import Plot  \n",
    "main_loop = MainLoop(\n",
    "     model=None, data_stream=data_stream,\n",
    "     algorithm=GradientDescent(cost=cost,\n",
    "                               params=[a],\n",
    "                               step_rule=Scale(learning_rate=0.1)),\n",
    "     extensions=[FinishAfter(after_n_epochs=1),\n",
    "                 TrainingDataMonitoring([cost, a], after_batch=True),\n",
    "                 Plot('Plotting example', channels=[['cost'], ['a']],\n",
    "                      after_batch=True)])  \n",
    "main_loop.run() "
   ]
  }
 ],
 "metadata": {
  "kernelspec": {
   "display_name": "Python 2",
   "language": "python",
   "name": "python2"
  },
  "language_info": {
   "codemirror_mode": {
    "name": "ipython",
    "version": 2
   },
   "file_extension": ".py",
   "mimetype": "text/x-python",
   "name": "python",
   "nbconvert_exporter": "python",
   "pygments_lexer": "ipython2",
   "version": "2.7.9"
  }
 },
 "nbformat": 4,
 "nbformat_minor": 0
}
