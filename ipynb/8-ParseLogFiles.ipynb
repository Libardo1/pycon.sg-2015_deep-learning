{
 "cells": [
  {
   "cell_type": "markdown",
   "metadata": {},
   "source": [
    "Define the basic path to the directory with the log files in it (check that the right files are listed) :"
   ]
  },
  {
   "cell_type": "code",
   "execution_count": 9,
   "metadata": {
    "collapsed": false
   },
   "outputs": [],
   "source": [
    "path = '../../../SEER/services/deepner/server'\n",
    "import os\n",
    "r = [ f for f in os.listdir(path) if f.endswith('.log') ]\n",
    "r"
   ]
  },
  {
   "cell_type": "code",
   "execution_count": 27,
   "metadata": {
    "collapsed": false
   },
   "outputs": [],
   "source": [
    "import re\n",
    "pattern = re.compile(\"\\s+(\\S+)\\:\\s+(\\S+)\")\n",
    "\n",
    "def parse_log(filename):\n",
    "    with open(filename, 'r') as f:\n",
    "        d=dict()\n",
    "        for l in f.readlines():\n",
    "            if '--------------------------------------------' in l:\n",
    "                if len(d)>0:\n",
    "                    yield d \n",
    "                d=dict() # Empty out the data\n",
    "            else:\n",
    "                m = pattern.search(l)\n",
    "                if m:\n",
    "                    d[m.group(1)] = m.group(2)\n",
    "        yield d\n",
    "\n",
    "data = parse_log(os.path.join(path, 'train.10epochs-8.cpu.log'))\n"
   ]
  },
  {
   "cell_type": "code",
   "execution_count": 55,
   "metadata": {
    "collapsed": false
   },
   "outputs": [],
   "source": [
    "next(data)"
   ]
  }
 ],
 "metadata": {
  "kernelspec": {
   "display_name": "Python 2",
   "language": "python",
   "name": "python2"
  },
  "language_info": {
   "codemirror_mode": {
    "name": "ipython",
    "version": 2
   },
   "file_extension": ".py",
   "mimetype": "text/x-python",
   "name": "python",
   "nbconvert_exporter": "python",
   "pygments_lexer": "ipython2",
   "version": "2.7.10"
  }
 },
 "nbformat": 4,
 "nbformat_minor": 0
}