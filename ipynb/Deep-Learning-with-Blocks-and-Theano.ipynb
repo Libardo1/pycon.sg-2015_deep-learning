{
 "cells": [
  {
   "cell_type": "markdown",
   "metadata": {
    "collapsed": false
   },
   "source": [
    "# Building the model\n",
    "\n",
    "Blocks uses \"bricks\" to build models. Bricks are **parametrized Theano \n",
    "operations**. You can read more about it in the \n",
    ":ref:`building with bricks <bricks>` tutorial.\n",
    "\n",
    "Constructing the model with Blocks is very simple. We start by defining the\n",
    "input variable using Theano.\n",
    "\n",
    ".. tip::\n",
    "   Want to follow along with the Python code? If you are using IPython, enable\n",
    "   the `doctest mode`_ using the special ``%doctest_mode`` command so that you\n",
    "   can copy-paste the examples below (including the ``>>>`` prompts) straight\n",
    "   into the IPython interpreter.\n"
   ]
  }
 ],
 "metadata": {
  "celltoolbar": "Raw Cell Format",
  "kernelspec": {
   "display_name": "Python 2",
   "language": "python",
   "name": "python2"
  },
  "language_info": {
   "codemirror_mode": {
    "name": "ipython",
    "version": 2
   },
   "file_extension": ".py",
   "mimetype": "text/x-python",
   "name": "python",
   "nbconvert_exporter": "python",
   "pygments_lexer": "ipython2",
   "version": "2.7.9"
  }
 },
 "nbformat": 4,
 "nbformat_minor": 0
}
